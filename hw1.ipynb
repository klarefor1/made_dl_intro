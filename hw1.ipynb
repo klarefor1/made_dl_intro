{
 "cells": [
  {
   "cell_type": "code",
   "execution_count": 192,
   "id": "b14120b2-8d1e-4387-ac6e-26d273779df2",
   "metadata": {
    "tags": []
   },
   "outputs": [
    {
     "name": "stdout",
     "output_type": "stream",
     "text": [
      "Archive:  laba-dataset.zip\n",
      "replace samples/226md.png? [y]es, [n]o, [A]ll, [N]one, [r]ename: ^C\n"
     ]
    }
   ],
   "source": [
    "!unzip laba-dataset.zip"
   ]
  },
  {
   "cell_type": "code",
   "execution_count": 114,
   "id": "26bc12f6-ce86-4c99-9f3c-58cc03fd6fd0",
   "metadata": {},
   "outputs": [],
   "source": [
    "import os\n",
    "import multiprocessing as mp\n",
    "\n",
    "import pandas as pd\n",
    "import string\n",
    "import collections\n",
    "import matplotlib.pyplot as plt\n",
    "import numpy as np\n",
    "\n",
    "import torch\n",
    "import torch.nn as nn\n",
    "import torchvision\n",
    "import torch.nn.functional as F\n",
    "import torchvision.transforms as T\n",
    "import torch.optim as optim\n",
    "import torchmetrics.functional as torch_metrics\n",
    "\n",
    "from torchvision import transforms\n",
    "from torch.utils.data.dataset import Dataset\n",
    "from torch.utils.data import DataLoader, Dataset\n",
    "from torch.nn import LSTM\n",
    "\n",
    "from PIL import Image\n",
    "\n",
    "from sklearn.model_selection import train_test_split\n",
    "\n",
    "from tqdm import tqdm"
   ]
  },
  {
   "cell_type": "markdown",
   "id": "44c61f55-3439-442c-ae4a-e3bb45221b3b",
   "metadata": {},
   "source": [
    "## 1. Data preporation"
   ]
  },
  {
   "cell_type": "markdown",
   "id": "78e6110b-e750-42ea-af9a-7fa10b036574",
   "metadata": {},
   "source": [
    "Подготовка\n",
    "данных.\n",
    "Нужно\n",
    "реализовать\n",
    "класс\n",
    "данных\n",
    "(наследник\n",
    "torch.utils.data.Dataset). Класс должен считывать входные изображения и выделять\n",
    "метки из имён файлов. Для чтения изображений предлагается использовать библиотеку\n",
    "Pillow. Дирректория содержит набор данных, который необходимо разделить на\n",
    "тренировочную и тестовую выборки в отношении четыре к одному."
   ]
  },
  {
   "cell_type": "markdown",
   "id": "aa52f7cf-52ce-4077-9ccd-3f87f031b340",
   "metadata": {},
   "source": [
    "#### Create alphabet"
   ]
  },
  {
   "cell_type": "code",
   "execution_count": 52,
   "id": "5f415a3e-d2c4-404f-87a0-028573d77374",
   "metadata": {},
   "outputs": [],
   "source": [
    "alph = string.ascii_lowercase + string.digits\n",
    "\n",
    "idx2char = {k:v for k,v in enumerate(alph)}\n",
    "char2idx = {v:k for k,v in idx2char.items()}"
   ]
  },
  {
   "cell_type": "markdown",
   "id": "caa10cde-0fae-4f0b-967b-d98cb8f7ce31",
   "metadata": {},
   "source": [
    "#### Create dataset"
   ]
  },
  {
   "cell_type": "code",
   "execution_count": 51,
   "id": "20c35731-39bc-4843-b56b-60de73a8af65",
   "metadata": {},
   "outputs": [],
   "source": [
    "class BaseDataset(Dataset):\n",
    "    \n",
    "    def __init__(self, data_dir, image_fns, char2idx):\n",
    "        self.data_dir = data_dir\n",
    "        self.image_fns = image_fns\n",
    "        self.char2idx = char2idx\n",
    "        \n",
    "    def __len__(self):\n",
    "        return len(self.image_fns)\n",
    "    \n",
    "    def __getitem__(self, index):\n",
    "        image_fn = self.image_fns[index]\n",
    "        image_fp = os.path.join(self.data_dir, image_fn)\n",
    "        image = Image.open(image_fp).convert('L')\n",
    "        image = self.transform(image)\n",
    "        text = image_fn.split(\".\")[0]\n",
    "        label = torch.tensor([self.char2idx[i] for i in text])\n",
    "        \n",
    "        return image, label\n",
    "    \n",
    "    def transform(self, image):\n",
    "        \n",
    "        transform_ops = transforms.Compose([\n",
    "            transforms.ToTensor()\n",
    "        ])\n",
    "        \n",
    "        return transform_ops(image)"
   ]
  },
  {
   "cell_type": "markdown",
   "id": "47411a69-a0cc-4079-b13f-30789af16f24",
   "metadata": {},
   "source": [
    "#### Train test split"
   ]
  },
  {
   "cell_type": "code",
   "execution_count": 53,
   "id": "a2a6bd37-fb1d-47fc-8241-c6a304cb83a4",
   "metadata": {},
   "outputs": [
    {
     "name": "stdout",
     "output_type": "stream",
     "text": [
      "train img count: 856, test img count: 214\n"
     ]
    }
   ],
   "source": [
    "data_path = './samples/'\n",
    "image_fns = os.listdir(data_path)\n",
    "image_fns.remove('samples')\n",
    "\n",
    "# необходимо разделить на тренировочную и тестовую выборки в отношении четыре к одному.\n",
    "image_fns_train, image_fns_test = train_test_split(image_fns, test_size=0.2, random_state=0)\n",
    "print(f\"train img count: {len(image_fns_train)}, test img count: {len(image_fns_test)}\")"
   ]
  },
  {
   "cell_type": "markdown",
   "id": "99c93396-1165-4230-8f2c-f56fff777eaf",
   "metadata": {},
   "source": [
    "#### Create data loaders"
   ]
  },
  {
   "cell_type": "code",
   "execution_count": 54,
   "id": "8324166f-c896-4c78-ba3f-78c93e2cb948",
   "metadata": {},
   "outputs": [
    {
     "name": "stdout",
     "output_type": "stream",
     "text": [
      "train batches count: 27, test batches count: 7\n"
     ]
    }
   ],
   "source": [
    "batch_size = 32\n",
    "cpu_count = 1 #mp.cpu_count()\n",
    "# С мультипроцессинговой подгрузкой возник ворох проблем, плюс данных не очень много, поэтому тут можно и в один процесс.\n",
    "\n",
    "trainset = BaseDataset(data_path, image_fns_train, char2idx) \n",
    "testset = BaseDataset(data_path, image_fns_test, char2idx)\n",
    "\n",
    "train_loader = DataLoader(trainset, batch_size=batch_size, shuffle=True)\n",
    "test_loader = DataLoader(testset, batch_size=batch_size, shuffle=False)\n",
    "print(f\"train batches count: {len(train_loader)}, test batches count: {len(test_loader)}\")"
   ]
  },
  {
   "cell_type": "markdown",
   "id": "5d9d75e5-67b8-4366-a29e-41cd4c72f52f",
   "metadata": {
    "tags": []
   },
   "source": [
    "## 2. Create model"
   ]
  },
  {
   "cell_type": "markdown",
   "id": "51179523-de30-4656-b95c-60e1b986e0c9",
   "metadata": {
    "jupyter": {
     "outputs_hidden": true
    },
    "tags": []
   },
   "source": [
    "Создание и обучение модели. Код модели должен быть реализован через слои\n",
    "стандартной библиотеки torch (torchvision.models и аналоги использовать нельзя).\n",
    "Поскольку число символов в капче фиксировано, можно использовать обычный кросс-\n",
    "энтропийный критерий. Желающие могут использовать и CTC-loss. Цикл обучения\n",
    "можно реализовать самостоятельно или воспользоваться библиотеками PyTorch\n",
    "Lightning / Catalyst."
   ]
  },
  {
   "cell_type": "markdown",
   "id": "8a02bc9c-cc0b-4ce4-96f7-328aa15e3763",
   "metadata": {},
   "source": [
    "#### LSTM model"
   ]
  },
  {
   "cell_type": "code",
   "execution_count": null,
   "id": "aaf55506-277d-4271-aa27-af987fca1344",
   "metadata": {},
   "outputs": [],
   "source": [
    "class Bidirectional(nn.Module):\n",
    "    def __init__(self, inp, hidden, out):\n",
    "        super(Bidirectional, self).__init__()\n",
    "        self.rnn = nn.LSTM(inp, hidden, bidirectional=True)\n",
    "        self.embedding = nn.Linear(hidden*2, out)\n",
    "    def forward(self, X):\n",
    "        recurrent, _ = self.rnn(X)\n",
    "        out = self.embedding(recurrent)     \n",
    "        return out"
   ]
  },
  {
   "cell_type": "markdown",
   "id": "131f3bac-7f12-4b54-9e00-939d62a984cb",
   "metadata": {},
   "source": [
    "#### Main model: CNN + LSTM"
   ]
  },
  {
   "cell_type": "code",
   "execution_count": 55,
   "id": "0cef9951-378d-401b-84b1-4dac9c2963ea",
   "metadata": {},
   "outputs": [],
   "source": [
    "class CRNN(nn.Module):\n",
    "    def __init__(self, in_channels, output):\n",
    "        super(CRNN, self).__init__()\n",
    "\n",
    "        self.cnn = nn.Sequential(\n",
    "                nn.Conv2d(in_channels, 256, 9, stride=1, padding=1),\n",
    "                nn.ReLU(),\n",
    "                nn.BatchNorm2d(256),\n",
    "                nn.MaxPool2d(3, 3),\n",
    "                nn.Conv2d(256, 256, (4, 3), stride=1, padding=1),\n",
    "                nn.ReLU(),\n",
    "                nn.BatchNorm2d(256))\n",
    "        \n",
    "        self.linear = nn.Linear(3328, 256)\n",
    "        self.bn1 = nn.BatchNorm1d(256)\n",
    "        self.rnn = Bidirectional(256, 1024, output+1)\n",
    "\n",
    "    def forward(self, X, y, criterion):\n",
    "        out = self.cnn(X)\n",
    "        N, C, w, h = out.size()\n",
    "        out = out.view(N, -1, h)\n",
    "        out = out.permute(0, 2, 1)\n",
    "        out = self.linear(out)\n",
    "\n",
    "        out = out.permute(1, 0, 2)\n",
    "        out = self.rnn(out)\n",
    "            \n",
    "        T = out.size(0)\n",
    "        N = out.size(1)\n",
    "\n",
    "        input_lengths = torch.full(size=(N,), fill_value=T, dtype=torch.int32)\n",
    "        target_lengths = torch.full(size=(N,), fill_value=5, dtype=torch.int32)\n",
    "\n",
    "        loss = criterion(out, y, input_lengths, target_lengths)\n",
    "\n",
    "        return out, loss"
   ]
  },
  {
   "cell_type": "markdown",
   "id": "f668d6ac-7692-4fe8-865c-9af80c96faf1",
   "metadata": {},
   "source": [
    "#### Create class for train, evaluate and predict"
   ]
  },
  {
   "cell_type": "code",
   "execution_count": null,
   "id": "a7a4076d-024d-4e99-8aae-fae79a04df2b",
   "metadata": {},
   "outputs": [],
   "source": [
    "class Engine:\n",
    "    def __init__(self, model, optimizer, criterion, epochs=50, early_stop=False, device='cpu'):\n",
    "        self.model = model\n",
    "        self.optimizer = optimizer\n",
    "        self.criterion = criterion\n",
    "        self.epochs = epochs\n",
    "        self.early_stop = early_stop\n",
    "        self.device = device\n",
    "        \n",
    "    def fit(self, dataloader):\n",
    "        hist_loss = []\n",
    "        for epoch in range(self.epochs):\n",
    "            self.model.train()\n",
    "            tk = tqdm(dataloader, total=len(dataloader))\n",
    "            for data, target in tk:\n",
    "                data = data.to(device=self.device)\n",
    "                target = target.to(device=self.device)\n",
    "\n",
    "                self.optimizer.zero_grad()\n",
    "\n",
    "                out, loss = self.model(data, target, criterion=self.criterion)\n",
    "\n",
    "                loss.backward()\n",
    "\n",
    "                self.optimizer.step()\n",
    "\n",
    "                tk.set_postfix({'Epoch':epoch+1, 'Loss' : loss.item()})\n",
    "                \n",
    "    def evaluate(self, dataloader):\n",
    "        self.model.eval()\n",
    "        loss = 0\n",
    "        hist_loss = []\n",
    "        outs = collections.defaultdict(list)\n",
    "        tk = tqdm(dataloader, total=len(dataloader))\n",
    "        with torch.no_grad():\n",
    "            for data, target in tk:\n",
    "                data = data.to(device=self.device)\n",
    "                target = target.to(device=self.device)\n",
    "\n",
    "                out, loss = self.model(data, target, criterion=self.criterion)\n",
    "                \n",
    "                outs['pred'].append(out)\n",
    "                outs['target'].append(target)\n",
    "                \n",
    "\n",
    "                hist_loss.append(loss)\n",
    "\n",
    "                tk.set_postfix({'Loss':loss.item()})\n",
    "                \n",
    "        return outs, hist_loss\n",
    "    \n",
    "    def predict(self, image):\n",
    "        image = Image.open(image).convert('L')\n",
    "        image_tensor = T.ToTensor()(image)\n",
    "        image_tensor = image_tensor.unsqueeze(0)        \n",
    "        out, _ = self.model(image_tensor.to(device=self.device))\n",
    "        out = out.permute(1, 0, 2)\n",
    "        out = out.log_softmax(2)\n",
    "        out = out.argmax(2)\n",
    "        out = out.cpu().detach().numpy()\n",
    "        \n",
    "        return out"
   ]
  },
  {
   "cell_type": "markdown",
   "id": "d56595ac-e539-45f7-b82a-ffd6b578f4e4",
   "metadata": {},
   "source": [
    "#### Train model"
   ]
  },
  {
   "cell_type": "code",
   "execution_count": 56,
   "id": "707845d1-320f-4da3-a950-f6d026d22e48",
   "metadata": {
    "collapsed": true,
    "jupyter": {
     "outputs_hidden": true
    },
    "tags": []
   },
   "outputs": [
    {
     "name": "stdout",
     "output_type": "stream",
     "text": [
      "cpu\n"
     ]
    },
    {
     "name": "stderr",
     "output_type": "stream",
     "text": [
      "100%|█████████████████████| 27/27 [04:38<00:00, 10.32s/it, Epoch=1, Loss=5.46]\n",
      "100%|█████████████████████| 27/27 [04:13<00:00,  9.38s/it, Epoch=2, Loss=3.87]\n",
      "100%|█████████████████████| 27/27 [04:12<00:00,  9.34s/it, Epoch=3, Loss=3.57]\n",
      "100%|█████████████████████| 27/27 [04:15<00:00,  9.45s/it, Epoch=4, Loss=3.29]\n",
      "100%|█████████████████████| 27/27 [04:15<00:00,  9.45s/it, Epoch=5, Loss=3.28]\n",
      "100%|█████████████████████| 27/27 [04:15<00:00,  9.46s/it, Epoch=6, Loss=3.25]\n",
      "100%|██████████████████████| 27/27 [05:02<00:00, 11.21s/it, Epoch=7, Loss=3.3]\n",
      "100%|█████████████████████| 27/27 [05:22<00:00, 11.95s/it, Epoch=8, Loss=3.29]\n",
      "100%|█████████████████████| 27/27 [05:21<00:00, 11.93s/it, Epoch=9, Loss=3.26]\n",
      "100%|████████████████████| 27/27 [05:10<00:00, 11.51s/it, Epoch=10, Loss=3.24]\n",
      "100%|█████████████████████| 27/27 [04:12<00:00,  9.34s/it, Epoch=11, Loss=3.2]\n",
      "100%|█████████████████████| 27/27 [04:10<00:00,  9.26s/it, Epoch=12, Loss=3.2]\n",
      "100%|████████████████████| 27/27 [04:10<00:00,  9.29s/it, Epoch=13, Loss=3.23]\n",
      "100%|█████████████████████| 27/27 [04:09<00:00,  9.25s/it, Epoch=14, Loss=3.3]\n",
      "100%|████████████████████| 27/27 [04:12<00:00,  9.37s/it, Epoch=15, Loss=3.24]\n",
      "100%|█████████████████████| 27/27 [04:20<00:00,  9.64s/it, Epoch=16, Loss=3.3]\n",
      "100%|████████████████████| 27/27 [04:20<00:00,  9.65s/it, Epoch=17, Loss=3.23]\n",
      "100%|████████████████████| 27/27 [04:20<00:00,  9.64s/it, Epoch=18, Loss=3.22]\n",
      "100%|████████████████████| 27/27 [04:20<00:00,  9.66s/it, Epoch=19, Loss=3.24]\n",
      "100%|████████████████████| 27/27 [04:19<00:00,  9.63s/it, Epoch=20, Loss=3.27]\n",
      "100%|████████████████████| 27/27 [05:26<00:00, 12.07s/it, Epoch=21, Loss=3.25]\n",
      "100%|█████████████████████| 27/27 [05:25<00:00, 12.07s/it, Epoch=22, Loss=3.2]\n",
      "100%|████████████████████| 27/27 [05:25<00:00, 12.05s/it, Epoch=23, Loss=3.15]\n",
      "100%|████████████████████| 27/27 [05:25<00:00, 12.05s/it, Epoch=24, Loss=3.19]\n",
      "100%|████████████████████| 27/27 [05:28<00:00, 12.16s/it, Epoch=25, Loss=3.24]\n",
      "100%|████████████████████| 27/27 [05:28<00:00, 12.17s/it, Epoch=26, Loss=3.22]\n",
      "100%|████████████████████| 27/27 [05:30<00:00, 12.22s/it, Epoch=27, Loss=3.18]\n",
      "100%|████████████████████| 27/27 [05:26<00:00, 12.11s/it, Epoch=28, Loss=3.28]\n",
      "100%|████████████████████| 27/27 [05:28<00:00, 12.16s/it, Epoch=29, Loss=3.16]\n",
      "100%|████████████████████| 27/27 [05:19<00:00, 11.82s/it, Epoch=30, Loss=3.19]\n",
      "100%|████████████████████| 27/27 [05:21<00:00, 11.91s/it, Epoch=31, Loss=3.13]\n",
      "100%|████████████████████| 27/27 [05:22<00:00, 11.95s/it, Epoch=32, Loss=3.15]\n",
      "100%|████████████████████| 27/27 [05:21<00:00, 11.92s/it, Epoch=33, Loss=3.17]\n",
      "100%|█████████████████████| 27/27 [05:21<00:00, 11.91s/it, Epoch=34, Loss=3.1]\n",
      "100%|████████████████████| 27/27 [05:20<00:00, 11.86s/it, Epoch=35, Loss=3.08]\n",
      "100%|████████████████████| 27/27 [05:22<00:00, 11.96s/it, Epoch=36, Loss=3.09]\n",
      "100%|████████████████████| 27/27 [05:23<00:00, 11.96s/it, Epoch=37, Loss=3.04]\n",
      "100%|████████████████████| 27/27 [05:20<00:00, 11.88s/it, Epoch=38, Loss=2.86]\n",
      "100%|████████████████████| 27/27 [05:19<00:00, 11.83s/it, Epoch=39, Loss=2.92]\n",
      "100%|████████████████████| 27/27 [12:55<00:00, 28.72s/it, Epoch=40, Loss=2.83]\n",
      "100%|████████████████████| 27/27 [05:19<00:00, 11.83s/it, Epoch=41, Loss=2.74]\n",
      "100%|████████████████████| 27/27 [05:22<00:00, 11.93s/it, Epoch=42, Loss=2.48]\n",
      "100%|████████████████████| 27/27 [05:23<00:00, 12.00s/it, Epoch=43, Loss=2.27]\n",
      "100%|████████████████████| 27/27 [05:23<00:00, 11.99s/it, Epoch=44, Loss=2.23]\n",
      "100%|███████████████████████| 27/27 [05:22<00:00, 11.96s/it, Epoch=45, Loss=2]\n",
      "100%|████████████████████| 27/27 [05:21<00:00, 11.91s/it, Epoch=46, Loss=1.92]\n",
      "100%|████████████████████| 27/27 [05:24<00:00, 12.01s/it, Epoch=47, Loss=1.65]\n",
      "100%|████████████████████| 27/27 [05:23<00:00, 11.98s/it, Epoch=48, Loss=1.46]\n",
      "100%|█████████████████████| 27/27 [05:23<00:00, 11.98s/it, Epoch=49, Loss=1.1]\n",
      "100%|███████████████████| 27/27 [05:23<00:00, 11.99s/it, Epoch=50, Loss=0.949]\n",
      "100%|███████████████████████████████| 7/7 [00:28<00:00,  4.14s/it, Loss=0.963]\n"
     ]
    }
   ],
   "source": [
    "# device = torch.device('mps' if torch.has_mps else 'cpu')\n",
    "# Не получилось завести все это дело на маковский процессор, летят ошибки с железа,\n",
    "# поэтому запустил одновременно на локальной машине на cpu и в колабе.\n",
    "\n",
    "num_class = len(char2idx)\n",
    "device = torch.device('cpu')\n",
    "            \n",
    "model = CRNN(in_channels=1, output=num_class).to(device)\n",
    "optimizer = optim.Adam(model.parameters(), lr=1e-4)\n",
    "criterion = nn.CTCLoss()\n",
    "\n",
    "engine = Engine(model, optimizer, criterion, device=device)\n",
    "engine.fit(train_loader)\n",
    "outs, loss = engine.evaluate(test_loader)"
   ]
  },
  {
   "cell_type": "markdown",
   "id": "33db62fe-d298-4cca-a1d7-191039d271e3",
   "metadata": {},
   "source": [
    "#### Save model"
   ]
  },
  {
   "cell_type": "code",
   "execution_count": 128,
   "id": "d16896af-edef-453d-808b-022a525e5977",
   "metadata": {},
   "outputs": [],
   "source": [
    "saving = {'state_dict':engine.model.state_dict(),\n",
    "          'optimizer':engine.optimizer.state_dict(),\n",
    "         'char2idx':char2idx,\n",
    "         'idx2char':idx2char}\n",
    "torch.save(saving, './model.pth')"
   ]
  },
  {
   "cell_type": "markdown",
   "id": "c67f571e-0895-41d0-8bce-62fde53f32fa",
   "metadata": {},
   "source": [
    "## 3. Model evaluation and metrics analysis"
   ]
  },
  {
   "cell_type": "markdown",
   "id": "bf7210fa-d32a-450f-b722-3882d344dc59",
   "metadata": {},
   "source": [
    "Подсчет метрик. После обучения нужно оценить точность предсказания на тестовой\n",
    "выборке. В качестве метрики предлагается использовать долю неверно распознанных\n",
    "символов, Character Error Rate (CER)."
   ]
  },
  {
   "cell_type": "markdown",
   "id": "edb761a6-754d-4c56-bd25-95c6ff0518be",
   "metadata": {},
   "source": [
    "#### Manual evaluation"
   ]
  },
  {
   "cell_type": "code",
   "execution_count": 99,
   "id": "7748ea5c-b745-4361-b05e-4f24bf4ea1a9",
   "metadata": {},
   "outputs": [],
   "source": [
    "def get_text_prediction(model_out):\n",
    "    pred = ''\n",
    "    then = 0\n",
    "    for x in model_out:\n",
    "        if then != x:\n",
    "            if x > 0 :\n",
    "                pred += idx2char[x]\n",
    "        then = x\n",
    "        \n",
    "    return pred"
   ]
  },
  {
   "cell_type": "code",
   "execution_count": 100,
   "id": "70b4c9f0-cc23-4e48-a673-05c8412f7de7",
   "metadata": {},
   "outputs": [],
   "source": [
    "def show_prediction(out, image):\n",
    "    \n",
    "    pred = get_text_prediction(out)\n",
    "    print(out)\n",
    "    \n",
    "    y_true = image.split('/')[-1].split('.')[0]\n",
    "    imagePIL = Image.open(image).convert('L')\n",
    "    img_array = np.asarray(imagePIL)\n",
    "    \n",
    "    plt.figure(figsize=(15, 12))\n",
    "    plt.title(f'Ground Truth - {y_true} || Prediction - {pred}')\n",
    "    plt.axis('off')\n",
    "    plt.imshow(img_array)"
   ]
  },
  {
   "cell_type": "code",
   "execution_count": 127,
   "id": "35115173-34ab-48c9-855a-8073172b0151",
   "metadata": {},
   "outputs": [
    {
     "name": "stdout",
     "output_type": "stream",
     "text": [
      "[ 0  0  0  0  0  0  0  0  0  0  0  0 23 23  0  0  0 13  0  0  0  0  0  0\n",
      " 13  0  0  0  0  0  0  0  0  0  0 30  0  0  0  0  0  0  0  3  0  0  0  0\n",
      "  0  0  0  0  0  0  0  0  0  0  0  0  0  0  0  0]\n"
     ]
    },
    {
     "data": {
      "image/png": "[encoded data removed]",
      "text/plain": [
       "<Figure size 1080x864 with 1 Axes>"
      ]
     },
     "metadata": {
      "needs_background": "light"
     },
     "output_type": "display_data"
    }
   ],
   "source": [
    "ids = np.random.randint(len(image_fns))\n",
    "image = './samples/' + image_fns[ids]\n",
    "out = engine.predict(image)[0]\n",
    "show_prediction(out, image)"
   ]
  },
  {
   "cell_type": "markdown",
   "id": "5a32c959-5e74-4492-8453-c5368936dce5",
   "metadata": {},
   "source": [
    "### Metrics "
   ]
  },
  {
   "cell_type": "code",
   "execution_count": 110,
   "id": "38449f1a-76c6-4ee8-95bb-8145af043647",
   "metadata": {},
   "outputs": [],
   "source": [
    "def get_y_true_y_pred(image_fns):\n",
    "    y_true = []\n",
    "    y_pred = []\n",
    "    \n",
    "    for image in image_fns:\n",
    "        y_true.append(image.split('.')[0])\n",
    "        image = './samples/' + image\n",
    "        out = engine.predict(image)[0]\n",
    "        y_pred.append(get_text_prediction(out))\n",
    "        \n",
    "    return y_true, y_pred"
   ]
  },
  {
   "cell_type": "code",
   "execution_count": 112,
   "id": "51c954ba-fbdf-4555-a776-91ba5aa50b0c",
   "metadata": {
    "tags": []
   },
   "outputs": [],
   "source": [
    "y_true, y_pred = get_y_true_y_pred(image_fns_test)"
   ]
  },
  {
   "cell_type": "code",
   "execution_count": 119,
   "id": "4a67369f-5e46-42e1-ad3d-960f253edf29",
   "metadata": {},
   "outputs": [
    {
     "name": "stdout",
     "output_type": "stream",
     "text": [
      "CER metric: 0.4476635456085205\n"
     ]
    }
   ],
   "source": [
    "print(f'CER metric: {torch_metrics.char_error_rate(y_pred, y_true)}')"
   ]
  },
  {
   "cell_type": "markdown",
   "id": "0eb15158-ab94-4411-a0ee-9bc3a7af9ca6",
   "metadata": {},
   "source": [
    "Выглядит как очень плохо :(  \n",
    "Судя по ручному анализу, сетка не просто не угадывает символы, а даже <b>не видит, что символы как таковые есть</b>. Переходить к более детальному изучению ошибок на данном этапе не вижу смысла, нужно сперва поборот обозначенную проблему.  \n",
    "Гипотеза 1 - (очень на нее надеюсь) - мало эпох учил. Попробую дообучить модель и понадеяться, что ситуация улучшится."
   ]
  },
  {
   "cell_type": "code",
   "execution_count": 118,
   "id": "f16f1899-c9c2-4c8f-89ed-4b2bf5c9e187",
   "metadata": {},
   "outputs": [
    {
     "name": "stderr",
     "output_type": "stream",
     "text": [
      "100%|████████████████████| 27/27 [05:23<00:00, 11.99s/it, Epoch=1, Loss=0.643]\n",
      "100%|████████████████████| 27/27 [05:21<00:00, 11.92s/it, Epoch=2, Loss=0.683]\n",
      "100%|████████████████████| 27/27 [05:22<00:00, 11.93s/it, Epoch=3, Loss=0.457]\n",
      "100%|████████████████████| 27/27 [05:28<00:00, 12.16s/it, Epoch=4, Loss=0.369]\n",
      "100%|████████████████████| 27/27 [05:23<00:00, 11.99s/it, Epoch=5, Loss=0.363]\n",
      "100%|████████████████████| 27/27 [05:20<00:00, 11.86s/it, Epoch=6, Loss=0.356]\n",
      "100%|████████████████████| 27/27 [05:22<00:00, 11.94s/it, Epoch=7, Loss=0.477]\n",
      "100%|████████████████████| 27/27 [05:21<00:00, 11.92s/it, Epoch=8, Loss=0.194]\n",
      "100%|████████████████████| 27/27 [05:27<00:00, 12.11s/it, Epoch=9, Loss=0.298]\n",
      "100%|███████████████████| 27/27 [05:28<00:00, 12.17s/it, Epoch=10, Loss=0.258]\n",
      "100%|███████████████████| 27/27 [05:10<00:00, 11.51s/it, Epoch=11, Loss=0.386]\n",
      "100%|███████████████████| 27/27 [04:21<00:00,  9.68s/it, Epoch=12, Loss=0.325]\n",
      "100%|███████████████████| 27/27 [04:21<00:00,  9.67s/it, Epoch=13, Loss=0.248]\n",
      "100%|███████████████████| 27/27 [04:30<00:00, 10.02s/it, Epoch=14, Loss=0.122]\n",
      "100%|███████████████████| 27/27 [04:26<00:00,  9.88s/it, Epoch=15, Loss=0.156]\n",
      "100%|███████████████████| 27/27 [04:25<00:00,  9.84s/it, Epoch=16, Loss=0.182]\n",
      "100%|██████████████████| 27/27 [04:25<00:00,  9.83s/it, Epoch=17, Loss=0.0809]\n",
      "100%|████████████████████| 27/27 [04:25<00:00,  9.83s/it, Epoch=18, Loss=0.11]\n",
      "100%|███████████████████| 27/27 [04:25<00:00,  9.82s/it, Epoch=19, Loss=0.166]\n",
      "100%|██████████████████| 27/27 [04:25<00:00,  9.83s/it, Epoch=20, Loss=0.0548]\n",
      "100%|███████████████████████████████| 7/7 [00:23<00:00,  3.39s/it, Loss=0.192]\n"
     ]
    }
   ],
   "source": [
    "engine = Engine(model, optimizer, criterion, epochs=20, device=device)\n",
    "engine.fit(train_loader)\n",
    "outs, loss = engine.evaluate(test_loader)"
   ]
  },
  {
   "cell_type": "code",
   "execution_count": 120,
   "id": "0e4e3a2b-4b8f-4be0-9503-280091a38f0d",
   "metadata": {},
   "outputs": [
    {
     "name": "stdout",
     "output_type": "stream",
     "text": [
      "CER metric: 0.032710280269384384\n"
     ]
    }
   ],
   "source": [
    "y_true, y_pred = get_y_true_y_pred(image_fns_test)\n",
    "print(f'CER metric: {torch_metrics.char_error_rate(y_pred, y_true)}')"
   ]
  },
  {
   "cell_type": "markdown",
   "id": "826fbe90-fbb9-410c-996d-384323e7b7b5",
   "metadata": {},
   "source": [
    "Вот теперь гораздо лучше! CER < 4%  \n",
    "В итоге потребовалось 70 эпох обучения для достижения результата.  \n",
    "Теперь можно посмотреть на частные случаи, и попробовать найти закономерности :)"
   ]
  },
  {
   "cell_type": "markdown",
   "id": "6b7fdb11-b3f3-449a-acc2-93eb3dfacc34",
   "metadata": {},
   "source": [
    "## 4. Errors analysis"
   ]
  },
  {
   "cell_type": "markdown",
   "id": "f1cbaf43-0cc7-40b2-98ca-6dce68f6e573",
   "metadata": {},
   "source": [
    "В этой секции нужно найти изображения из тестового корпуса,\n",
    "на которых модель ошибается сильнее всего (по loss или по CER). Предлагается выписать\n",
    "в ноутбук возможные причины появления этих ошибок и пути устранения."
   ]
  },
  {
   "cell_type": "code",
   "execution_count": 121,
   "id": "dc1fd85c-04a4-44b9-bd5e-94d0b42972db",
   "metadata": {},
   "outputs": [
    {
     "name": "stdout",
     "output_type": "stream",
     "text": [
      "['8pfxx', '58pnp', 'e2d66', 'nbwpn', '4c8n8', 'men4f', '2nf26', '6p7gx', '8n4n8', 'nfd8g', '7dxbd', 'nbwnn', 'ycmcw', 'd22y5', 'fwxdp', 'w6yne', 'xgcxy', '4433m', 'm3b5p', 'n7ff2', 'e43ym', '3p4nn', '3n2b4', '76y6f', '6b46g', 'm74dm', '6n6gg', 'ewcf5', '664nf', 'dnne7', '4ynf3', 'mc8w2', '646x8', 'dn5df', '6end3', 'g7gnf', 'wecfd', 'w48cw', 'ddnpf', '56m6y', 'e4gd7', '85pew', '8c2wy', '32cnn', '2enf4', 'ncww7', 'dw8d3', '7dwx4', 'c753e', 'ndecc', '4n2yg', '32dnn', 'yg5bb', 'x3fwf', '2nx38', 'e72cd', 'pbpgc', 'cd4eg', 'mcyfx', 'd236n', '5nggg', 'x37bf', '865wm', 'c2yn8', '8fexn', 'm457d', 'enn7n', 'p4pde', '6c3n6', '74853', 'dbfen', '44fyb', 'nybcx', '6xen4', 'cpe63', '63824', 'x5f54', 'y7mnm', '5bnd7', 'mx8bb', 'neggn', 'f753f', '3den6', '6mn8n', '46mbm', 'xf4p4', 'geyn5', 'gc277', 'c86md', 'bdg84', '244e2', 'fxpw3', 'd7en3', '7nnnx', '57b27', '43xfe', 'yemy4', '4egem', 'pe4xn', 'befbd', '77387', 'gymmn', '7gp47', 'gf2g4', 'e3ndn', '8c23f', 'gfp54', 'fywb8', '4w6mw', 'bm3p8', '6b4w6', 'bcwnn', 'gd8fb', 'y7x8p', 'nwncn', 'gmmne', '23n88', 'g3ex3', '5bgp2', '6pwcn', 'ppx77', '488de', 'g6n7x', '24f6w', 'pm363', 'mdyp7', 'gnc3n', 'cdmn8', 'g55b4', 'y2xg4', 'b28g8', '8y6b3', 'x7746', 'n8wxm', 'w6pxy', '65m85', 'byc82', 'n6f4b', 'b4d7c', 'pgmn2', '8cccc', '7wnpm', 'fp762', '8n56m', 'b3xpn', 'mm3nn', 'b84xc', 'nny5e', '5x7x5', 'ep85x', 'dmx8p', 'gbxyy', '8n62n', 'gy433', 'xnn4d', '7wn74', 'ddcdd', 'cen55', '63pxe', 'bnc5f', '3mxdn', '75pfw', '2mpnn', '28x47', 'cnex4', '25m6p', 'nbf8m', '2cgyx', 'xxney', '6bxwg', 'md344', '42dw4', 'g7wxw', 'nnp4e', 'dn26n', 'cfw6e', 'mye68', 'w4cdc', 'pmd3w', '5p3mm', 'nxcmn', 'm6n4x', '43gey', 'cb8cf', 'pcmcc', 'ng6yp', '44ype', 'efgx5', 'f7cey', '67dey', '3nfdn', 'yeyn4', '3x325', 'x38fn', '5nxnn', '2n73f', '6e6pn', 'exycn', 'gd4mf', '76353', 'myf82', 'pg2yx', 'c2g4d', '5fyem', 'x3deb', 'd3c8y', '4d22m', 'xbcbx', 'n8pfe', 'xcf88', '7gnge', 'px8n8', 'cc845', 'gnbn4']\n"
     ]
    }
   ],
   "source": [
    "print(y_true)"
   ]
  },
  {
   "cell_type": "code",
   "execution_count": 122,
   "id": "bd5122ae-20a9-464a-a957-dc2c6c6a01e0",
   "metadata": {},
   "outputs": [
    {
     "name": "stdout",
     "output_type": "stream",
     "text": [
      "['8pfxx', '58pnp', 'e2d66', 'nbwpn', '4c8n8', 'nen4f', '2nf26', '6p7gx', '8n4n8', 'nfd8g', '7dxbd', 'nbwnn', 'ycncw', 'd22y5', 'fwxdp', 'w6yne', 'xgcxy', '4433m', 'n3b5p', 'n7ff2', 'e43ym', '3p4nn', '3n2b4', '76y6f', '6b46g', 'n74dmm', '6n6gg', 'ewcf5', '664mf', 'dnne7', '4ynf3', 'mc8w2', '646x8', 'dn5df', '6end3', 'g7gnf', 'wecfd', 'w48cw', 'ddnpf', '56n6y', 'e4gd7', '85pew', '8c2wy', '32cmn', '2enf4', 'ncww7', 'dw8d3', '7dwx4', 'c753e', 'ndecc', '4n2yg', '32dnn', 'yg5bb', 'x3fwf', '2nx38', 'e72cd', 'pbpgc', 'cd4eg', 'mcyfx', 'd236n', '5mggg', 'x37bf', '865wm', 'c2yn8', '8fexn', 'm457d', 'enn7n', 'p4pde', '6c3n6', '74853', 'dbfen', '44fyb', 'nybcx', '6xen4', 'cpe63', '63824', 'x5f54', 'y7mnn', '5bnd7', 'nx8bb', 'neggn', 'f753f', '3den6', '6mn8n', '46mbm', 'xf4p4', 'geyn5', 'gc277', 'c86nd', 'bdg84', '244e2', 'fxpw3', 'd7en3', '7nnnx', '57b27', '43xfe', 'yeny4', '4egemm', 'pe4xn', 'befbd', '77387', 'gynmn', '7gp47', 'gf2g4', 'e3ndn', '8c23f', 'gfp54', 'fywb8', '4w6w', 'bm3p8', '6b4w6', 'bcwmn', 'gd8fb', 'y7x8p', 'nwncm', 'gmmmne', '23n88', 'g3ex3', '5bgp2', '6pwcm', 'ppx77', '488de', 'g6n7x', '24f6w', 'pn363', 'ndyp7', 'gnc3n', 'cdmn8', 'g55b4', 'y2xg4', 'b28g8', '8y6b3', 'x7746', 'n8wxm', 'w6pxy', '65m85', 'byc82', 'm6f4b', 'b4d7c', 'pgnn2', '8cccc', '7wmpn', 'fp762', '8n56mm', 'b3xpn', 'mm3nn', 'b84xc', 'mny5e', '5x7x5', 'cp85x', 'dmx8p', 'gbxyy', '8n62n', 'gy433', 'xnn4d', '7wn74', 'ddcdd', 'cen55', '63pxe', 'bnc5f', '3nxdn', '75pfw', '2npnn', '28x47', 'cnex4', '25n6p', 'nbf8n', '2cgyx', 'xxney', '6bxwg', 'md344', '42dw4', 'g7wxw', 'nnp4e', 'dn26n', 'cfw6e', 'mye68', 'w4cdc', 'pmd3w', '5p3mm', 'mxcmn', 'm6n4x', '43gey', 'cb8cf', 'pcmcc', 'ng6yp', '44ype', 'efgx5', 'f7cey', '67dey', '3nfdn', 'yeyn4', '3x325', 'x38fn', '5nxnn', '2n73f', '6e6pn', 'exycn', 'gd4mf', '76353', 'myf82', 'pg2yx', 'c2g4d', '5fyem', 'x3deb', 'd3c8y', '4d22n', 'xbcbx', 'n8pfe', 'xcf88', '7gnge', 'px8n8', 'cc845', 'gnbn4']\n"
     ]
    }
   ],
   "source": [
    "print(y_pred)"
   ]
  },
  {
   "cell_type": "markdown",
   "id": "bf3146f2-7b8b-4f95-8b1d-667270a194c4",
   "metadata": {},
   "source": [
    "#### Гипотеза 1:\n",
    "Давайте посмотрим, угадываем ли мы число символов (вдруг с нами осталась прошлая проблема)"
   ]
  },
  {
   "cell_type": "code",
   "execution_count": 125,
   "id": "e932cd8d-0b9f-411e-9b6e-c9927b645126",
   "metadata": {},
   "outputs": [
    {
     "name": "stdout",
     "output_type": "stream",
     "text": [
      "y_pred: n74dmm, y_true: m74dm\n",
      "y_pred: 4egemm, y_true: 4egem\n",
      "y_pred: 4w6w, y_true: 4w6mw\n",
      "y_pred: gmmmne, y_true: gmmne\n",
      "y_pred: 8n56mm, y_true: 8n56m\n"
     ]
    }
   ],
   "source": [
    "for idx in range(len(y_pred)):\n",
    "    if len(y_pred[idx]) != 5:\n",
    "        print(f'y_pred: {y_pred[idx]}, y_true: {y_true[idx]}')"
   ]
  },
  {
   "cell_type": "markdown",
   "id": "9799211b-dc19-4bc9-a17e-19d9cbb48ff9",
   "metadata": {},
   "source": [
    "Видим, что все проблемы с пропуском вызваны буквой m. Очевидно, что буквы просто слепляются во что-то одно большое, что модель распознает за одну букву m. "
   ]
  },
  {
   "cell_type": "markdown",
   "id": "bbc4185e-a70a-4db1-91d9-bcada3beec9d",
   "metadata": {},
   "source": [
    "#### Гипотеза 2: \n",
    "Теперь посмотрим, какие буквы мы путаем."
   ]
  },
  {
   "cell_type": "code",
   "execution_count": 126,
   "id": "1fc1ffde-cc8c-4acb-84a5-5a2bf045a12b",
   "metadata": {},
   "outputs": [
    {
     "name": "stdout",
     "output_type": "stream",
     "text": [
      "y_pred: nen4f, y_true: men4f\n",
      "y_pred: ycncw, y_true: ycmcw\n",
      "y_pred: n3b5p, y_true: m3b5p\n",
      "y_pred: n74dmm, y_true: m74dm\n",
      "y_pred: 664mf, y_true: 664nf\n",
      "y_pred: 56n6y, y_true: 56m6y\n",
      "y_pred: 32cmn, y_true: 32cnn\n",
      "y_pred: 5mggg, y_true: 5nggg\n",
      "y_pred: y7mnn, y_true: y7mnm\n",
      "y_pred: nx8bb, y_true: mx8bb\n",
      "y_pred: c86nd, y_true: c86md\n",
      "y_pred: yeny4, y_true: yemy4\n",
      "y_pred: 4egemm, y_true: 4egem\n",
      "y_pred: gynmn, y_true: gymmn\n",
      "y_pred: 4w6w, y_true: 4w6mw\n",
      "y_pred: bcwmn, y_true: bcwnn\n",
      "y_pred: nwncm, y_true: nwncn\n",
      "y_pred: gmmmne, y_true: gmmne\n",
      "y_pred: 6pwcm, y_true: 6pwcn\n",
      "y_pred: pn363, y_true: pm363\n",
      "y_pred: ndyp7, y_true: mdyp7\n",
      "y_pred: m6f4b, y_true: n6f4b\n",
      "y_pred: pgnn2, y_true: pgmn2\n",
      "y_pred: 7wmpn, y_true: 7wnpm\n",
      "y_pred: 8n56mm, y_true: 8n56m\n",
      "y_pred: mny5e, y_true: nny5e\n",
      "y_pred: cp85x, y_true: ep85x\n",
      "y_pred: 3nxdn, y_true: 3mxdn\n",
      "y_pred: 2npnn, y_true: 2mpnn\n",
      "y_pred: 25n6p, y_true: 25m6p\n",
      "y_pred: nbf8n, y_true: nbf8m\n",
      "y_pred: mxcmn, y_true: nxcmn\n",
      "y_pred: 4d22n, y_true: 4d22m\n"
     ]
    }
   ],
   "source": [
    "for idx in range(len(y_pred)):\n",
    "    if y_true[idx] != y_pred[idx]:\n",
    "        print(f'y_pred: {y_pred[idx]}, y_true: {y_true[idx]}')"
   ]
  },
  {
   "cell_type": "markdown",
   "id": "8274f523-c4af-49e0-8e7d-2d4690072937",
   "metadata": {},
   "source": [
    "### Эврика! \n",
    "\n",
    "Только одна ошибка из перечисленных выше имеет уникальность (y_pred: cp85x, y_true: ep85x) - проблема коллизии: **c** и **e** имеют практически идентичное начертание, кроме горизонтального штриха. Проблемы начинаются тогда, когда \"шумная\" черта проходит посередине слова, и там, распознать что за буква не может даже человек однозначно. Единого варианта исправления нет. Можем обучить модель убирать \"шум\" в виде сквозного штриха, но точно будут случаи, когда мы затрем штрих из оригинальной **e**.\n",
    "\n",
    "\n",
    "Что касается всех остальных ошибок, все они связаны с буквой m. Полагаю, что проблема схожа с описанной в первой гипотезе. Наверняка есть популярное решение, но времени уже совсем не остается на ее исследование. Уверен, есть хаки, позволяющие решить ее."
   ]
  }
 ],
 "metadata": {
  "kernelspec": {
   "display_name": "Python 3 (ipykernel)",
   "language": "python",
   "name": "python3"
  },
  "language_info": {
   "codemirror_mode": {
    "name": "ipython",
    "version": 3
   },
   "file_extension": ".py",
   "mimetype": "text/x-python",
   "name": "python",
   "nbconvert_exporter": "python",
   "pygments_lexer": "ipython3",
   "version": "3.9.12"
  }
 },
 "nbformat": 4,
 "nbformat_minor": 5
}
